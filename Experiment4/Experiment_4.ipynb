{
 "cells": [
  {
   "cell_type": "markdown",
   "id": "7d2631d1-02d9-43c1-8de0-a20cf79d1632",
   "metadata": {},
   "source": [
    "Caesar Cipher Encryption"
   ]
  },
  {
   "cell_type": "code",
   "execution_count": 1,
   "id": "80b858d5-bc9f-4288-94cf-01d673068da1",
   "metadata": {},
   "outputs": [
    {
     "name": "stdin",
     "output_type": "stream",
     "text": [
      "Enter the characters d\n",
      "Enter the characters e\n",
      "Enter the characters f\n"
     ]
    },
    {
     "name": "stdout",
     "output_type": "stream",
     "text": [
      "['f', 'g', 'h']\n"
     ]
    }
   ],
   "source": [
    "inp = []\n",
    "for i in range(3):\n",
    "    inp.append(input(\"Enter the characters\"))\n",
    "    inp[i]=chr(ord(inp[i])+2)\n",
    "print(inp)"
   ]
  },
  {
   "cell_type": "markdown",
   "id": "5c611ff7-c976-4336-b5ad-5f47715d3246",
   "metadata": {},
   "source": [
    "Tuple packing and unpacking"
   ]
  },
  {
   "cell_type": "code",
   "execution_count": 2,
   "id": "bfaeb852-c979-4335-a4b1-910495b23d85",
   "metadata": {
    "scrolled": true
   },
   "outputs": [
    {
     "name": "stdin",
     "output_type": "stream",
     "text": [
      "Enter name Sailesh\n",
      "Enter age 20\n",
      "Enter address 3rd Street Tamil Nager Thanjavur\n"
     ]
    },
    {
     "name": "stdout",
     "output_type": "stream",
     "text": [
      "Name: Sailesh \n",
      "Age: 20 \n",
      "Address: 3rd Street Tamil Nager Thanjavur\n"
     ]
    }
   ],
   "source": [
    "def inp():\n",
    "    name = input(\"Enter name\")\n",
    "    age = int(input(\"Enter age\"))\n",
    "    while(age<1):\n",
    "        age = int(input(\"Enter age above 0\"))\n",
    "    add = input(\"Enter address\")\n",
    "    t = (name,age,add)\n",
    "    return t\n",
    "def unpack(t):\n",
    "    name,age,address = t\n",
    "    print(f\"Name: {name} \\nAge: {age} \\nAddress: {address}\")\n",
    "    \n",
    "unpack(inp())"
   ]
  },
  {
   "cell_type": "markdown",
   "id": "16dd95cb-4691-4e14-9126-cfd7ec5ef739",
   "metadata": {},
   "source": [
    "Shopping Cart Management System"
   ]
  },
  {
   "cell_type": "code",
   "execution_count": 10,
   "id": "f34bf7e7-ad26-4fa9-8316-e87521ea1e4b",
   "metadata": {},
   "outputs": [
    {
     "name": "stdout",
     "output_type": "stream",
     "text": [
      "Welcome to the Shopping Cart Management System!\n",
      "1. Add Item to Cart\n",
      "2. View Cart\n",
      "3. Remove Item from Cart\n",
      "4. Calculate Total Cost\n",
      "5. Exit\n"
     ]
    },
    {
     "name": "stdin",
     "output_type": "stream",
     "text": [
      "Enter choice  1\n",
      "Enter item code  1\n",
      "Enter item quantity  10\n",
      "Enter choice  1\n",
      "Enter item code  2\n",
      "Enter item quantity  20\n",
      "Enter choice  2\n"
     ]
    },
    {
     "name": "stdout",
     "output_type": "stream",
     "text": [
      "[[1, 'RTX 1060', 100, 10], [2, 'RTX 2060', 200, 20]]\n"
     ]
    },
    {
     "name": "stdin",
     "output_type": "stream",
     "text": [
      "Enter choice  3\n",
      "Enter item code  1\n"
     ]
    },
    {
     "name": "stdout",
     "output_type": "stream",
     "text": [
      "1\n"
     ]
    },
    {
     "name": "stdin",
     "output_type": "stream",
     "text": [
      "Enter choice  4\n"
     ]
    },
    {
     "name": "stdout",
     "output_type": "stream",
     "text": [
      "$4000\n"
     ]
    },
    {
     "name": "stdin",
     "output_type": "stream",
     "text": [
      "Enter choice  5\n"
     ]
    }
   ],
   "source": [
    "storeitems = {1:{\"name\":\"RTX 1060\",\"price\":100,\"quantity\":10},2:{\"name\":\"RTX 2060\",\"price\":200,\"quantity\":20}\n",
    "              ,3:{\"name\":\"RTX 3060\",\"price\":300,\"quantity\":30},4:{\"name\":\"RTX 4060\",\"price\":400,\"quantity\":40}}\n",
    "cart=[]\n",
    "def additems(cart,storeitems,key,quantity):\n",
    "    if(key in storeitems.keys()):\n",
    "        x=[key,storeitems[key][\"name\"],storeitems[key][\"price\"],quantity]\n",
    "        cart.append(x)\n",
    "    else:\n",
    "        print(\"Item not in store\")\n",
    "def cartcontents(cart):\n",
    "    if(cart==[]):\n",
    "        print(\"Cart Empty\")\n",
    "    else:\n",
    "        print(cart)\n",
    "def removecart(cart,key):\n",
    "    flag = False\n",
    "    for i in cart:\n",
    "        print(i[0])\n",
    "        if(i[0]==key):\n",
    "            cart.remove(i)\n",
    "            flag=True\n",
    "    if(flag==False):\n",
    "        print(\"Item not found\")\n",
    "def totalcost(cart):\n",
    "    cost=0\n",
    "    for i in cart:\n",
    "        cost+=i[2]*i[3]\n",
    "    print(f\"${cost}\")    \n",
    "   \n",
    "flag = True\n",
    "print(\"\"\"Welcome to the Shopping Cart Management System!\n",
    "1. Add Item to Cart\n",
    "2. View Cart\n",
    "3. Remove Item from Cart\n",
    "4. Calculate Total Cost\n",
    "5. Exit\"\"\")\n",
    "while(flag):\n",
    "    c = int(input(\"Enter choice \"))\n",
    "    if(c==1):\n",
    "        key = int(input(\"Enter item code \"))\n",
    "        quantity = int(input(\"Enter item quantity \"))\n",
    "        additems(cart,storeitems,key,quantity)\n",
    "    elif(c==2):\n",
    "        cartcontents(cart)\n",
    "    elif(c==3):\n",
    "        key = int(input(\"Enter item code \"))\n",
    "        removecart(cart,key)      \n",
    "    elif(c==4):\n",
    "        totalcost(cart)            \n",
    "    else:\n",
    "        flag = False"
   ]
  },
  {
   "cell_type": "markdown",
   "id": "1a1adffc-9306-478f-8842-3b5d6e373a93",
   "metadata": {},
   "source": [
    "Student Management System"
   ]
  },
  {
   "cell_type": "code",
   "execution_count": 8,
   "id": "43164b27-90e7-4b6e-8a8b-7f03b0825b59",
   "metadata": {},
   "outputs": [
    {
     "name": "stdout",
     "output_type": "stream",
     "text": [
      "Welcome Student Management System!\n",
      "1. Add student\n",
      "2. Add grades\n",
      "3. View student\n",
      "4. Calculate average\n",
      "5. Exit\n"
     ]
    },
    {
     "name": "stdin",
     "output_type": "stream",
     "text": [
      "Enter choice  1\n",
      "Enter student id  1\n",
      "Enter name  Sailesh\n",
      "Enter choice  2\n",
      "Enter student id  1\n",
      "Enter Math marks 90\n",
      "Enter Science marks 90\n",
      "Enter choice  3\n",
      "Enter student id  1\n"
     ]
    },
    {
     "name": "stdout",
     "output_type": "stream",
     "text": [
      "Id = 1 Name = Sailesh Math = 90 Science = 90\n"
     ]
    },
    {
     "name": "stdin",
     "output_type": "stream",
     "text": [
      "Enter choice  4\n",
      "Enter student id  1\n"
     ]
    },
    {
     "name": "stdout",
     "output_type": "stream",
     "text": [
      "Average = 90.0\n"
     ]
    },
    {
     "name": "stdin",
     "output_type": "stream",
     "text": [
      "Enter choice  5\n"
     ]
    }
   ],
   "source": [
    "student = {}\n",
    "def addstudent(student,id,name,grades):\n",
    "    student[id]= name,grades\n",
    "def addgrade(student,id):\n",
    "    math = int(input(\"Enter Math marks\"))\n",
    "    science = int(input(\"Enter Science marks\"))\n",
    "    student[id]= (name,[math,science])\n",
    "def display(student,id):\n",
    "    x = student[id]\n",
    "    print(f\"Id = {id} Name = {x[0]} Math = {x[1][0]} Science = {x[1][1]}\")\n",
    "def average(student,id):\n",
    "    x = student[id]\n",
    "    print(f\"Average = {(x[1][0]+x[1][1])/2}\")\n",
    "flag = True\n",
    "print(\"\"\"Welcome Student Management System!\n",
    "1. Add student\n",
    "2. Add grades\n",
    "3. View student\n",
    "4. Calculate average\n",
    "5. Exit\"\"\")\n",
    "\n",
    "while(flag):\n",
    "    c = int(input(\"Enter choice \"))\n",
    "    if(c==1):\n",
    "        id = int(input(\"Enter student id \"))\n",
    "        name = input(\"Enter name \")\n",
    "        grades = [0,0]\n",
    "        addstudent(student,id,name,grades)\n",
    "    elif(c==2):\n",
    "        id = int(input(\"Enter student id \"))\n",
    "        addgrade(student,id)\n",
    "    elif(c==3):  \n",
    "        id = int(input(\"Enter student id \"))\n",
    "        display(student,id)\n",
    "    elif(c==4):  \n",
    "        id = int(input(\"Enter student id \"))\n",
    "        average(student,id)\n",
    "    else:\n",
    "        flag = False"
   ]
  },
  {
   "cell_type": "code",
   "execution_count": null,
   "id": "6fe71139-47ca-4247-916b-04eab3e831f0",
   "metadata": {},
   "outputs": [],
   "source": []
  }
 ],
 "metadata": {
  "kernelspec": {
   "display_name": "Python 3 (ipykernel)",
   "language": "python",
   "name": "python3"
  },
  "language_info": {
   "codemirror_mode": {
    "name": "ipython",
    "version": 3
   },
   "file_extension": ".py",
   "mimetype": "text/x-python",
   "name": "python",
   "nbconvert_exporter": "python",
   "pygments_lexer": "ipython3",
   "version": "3.11.9"
  }
 },
 "nbformat": 4,
 "nbformat_minor": 5
}
