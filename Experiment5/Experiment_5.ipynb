{
 "cells": [
  {
   "cell_type": "markdown",
   "id": "acf524ed-9120-4ca6-8e20-05b34ed9d4c1",
   "metadata": {},
   "source": [
    "Vowels and Consonants File"
   ]
  },
  {
   "cell_type": "code",
   "execution_count": 5,
   "id": "31b71c9b-5639-4784-9ef9-43dedfcd4adb",
   "metadata": {},
   "outputs": [
    {
     "name": "stdout",
     "output_type": "stream",
     "text": [
      "Enter input # to complete\n"
     ]
    },
    {
     "name": "stdin",
     "output_type": "stream",
     "text": [
      " Sailesh\n",
      " is writing\n",
      " a file\n",
      " #\n"
     ]
    },
    {
     "name": "stdout",
     "output_type": "stream",
     "text": [
      "\n",
      "Contents of Input file\n",
      "Sailesh\n",
      "is writing\n",
      "a file\n",
      "\n",
      "Contents of Vowel file\n",
      "aieiiiai\n",
      "\n",
      "Contents of Consonant file\n",
      "Slshswrtngf\n"
     ]
    }
   ],
   "source": [
    "f = open (\"Input.txt\",\"w\")\n",
    "flag = True\n",
    "print(\"Enter input # to complete\")\n",
    "text = input()\n",
    "while(text != \"#\"):\n",
    "        f.write(text+\"\\n\")\n",
    "        text = input()\n",
    "f.close()\n",
    "f = open (\"Input.txt\",\"r\")\n",
    "v = open (\"Vowel.txt\",\"w\")\n",
    "c = open (\"Consonant.txt\",\"w\")  \n",
    "flag = True\n",
    "text = f.read(1)\n",
    "while(text):\n",
    "    if(text in [\"a\",\"e\",\"i\",\"o\",\"u\"]):\n",
    "        v.write(text)\n",
    "    elif(text!=\"\\n\" and text!=\" \"):\n",
    "        c.write(text)\n",
    "    text = f.read(1)\n",
    "f.close()\n",
    "v.close()\n",
    "c.close()\n",
    "def fread(f):\n",
    "        for line in f.readlines():\n",
    "                     print(line[:-1:])   \n",
    "        f.close()\n",
    "\n",
    "print(\"\\nContents of Input file\")\n",
    "fread(open (\"Input.txt\"))\n",
    "print(\"\\nContents of Vowel file\")\n",
    "fread(open (\"Vowel.txt\"))\n",
    "print(\"\\nContents of Consonant file\")\n",
    "fread(open (\"Consonant.txt\"))"
   ]
  },
  {
   "cell_type": "markdown",
   "id": "b2950175-317b-4f54-a800-d59bd096d389",
   "metadata": {},
   "source": [
    "Student Mark File"
   ]
  },
  {
   "cell_type": "code",
   "execution_count": 7,
   "id": "24f41874-c459-4d4a-ad80-7d05570f939e",
   "metadata": {},
   "outputs": [
    {
     "name": "stdout",
     "output_type": "stream",
     "text": [
      "Contents of Data.csv\n",
      "['1', 'Sailesh', '90', '90', '90']\n",
      "['2', 'CRG', '95', '95', '95']\n",
      "['3', 'Abdul', '50', '50', '50']\n",
      "Contents of Output.csv\n",
      "['1', 'Sailesh', '90', '90', '90']\n",
      "['2', 'CRG', '95', '95', '95']\n"
     ]
    }
   ],
   "source": [
    "import csv\n",
    "\n",
    "student=[[1,\"Sailesh\",90,90,90],[2,\"CRG\",95,95,95],[3,\"Abdul\",50,50,50]]\n",
    "def fwrite(student):\n",
    "        f = open (\"Data.csv\",\"w\",newline=\"\")\n",
    "        writer = csv.writer(f)\n",
    "        writer.writerows(student)\n",
    "        f.close()\n",
    "def fread(f,student): \n",
    "        reader = csv.reader(f)\n",
    "        for row in reader:\n",
    "                print(row)\n",
    "        f.close()\n",
    "def extract(student):\n",
    "        f1 = open (\"Data.csv\",\"r\")\n",
    "        f2 = open (\"Output.csv\",\"w\",newline=\"\")\n",
    "        reader = csv.reader(f1)\n",
    "        writer = csv.writer(f2)\n",
    "        for row in reader:\n",
    "                if((int(row[2])+int(row[3])+int(row[4]))>250):\n",
    "                       writer.writerow(row)\n",
    "        f1.close()\n",
    "        f2.close()\n",
    "        \n",
    "fwrite(student)\n",
    "extract(student)\n",
    "print(\"Contents of Data.csv\")\n",
    "fread(open (\"Data.csv\"),student)\n",
    "print(\"Contents of Output.csv\")\n",
    "fread(open (\"Output.csv\"),student)"
   ]
  },
  {
   "cell_type": "markdown",
   "id": "28dde61a-e28d-4525-a71a-d5d31a21c9be",
   "metadata": {},
   "source": [
    "Employee Details"
   ]
  },
  {
   "cell_type": "code",
   "execution_count": 8,
   "id": "ab2b6b30-ed50-49f4-bd73-0dbde149f75a",
   "metadata": {},
   "outputs": [
    {
     "name": "stdout",
     "output_type": "stream",
     "text": [
      "Id = 1 Name = Sailesh Salary = 25000\n",
      "Id = 3 Name = CRG Salary = 27000\n"
     ]
    }
   ],
   "source": [
    "import pickle\n",
    "\n",
    "employee={1:{\"name\":\"Sailesh\",\"salary\":25000},2:{\"name\":\"Abdul\",\"salary\":20000},3:{\"name\":\"CRG\",\"salary\":27000}}\n",
    "\n",
    "def bwrite(employee):\n",
    "        f = open (\"Salary.dat\",\"wb\")\n",
    "        pickle.dump(employee,f)\n",
    "        f.close()\n",
    "def bextract():\n",
    "        f = open (\"Salary.dat\",\"rb\")\n",
    "        employee1 = pickle.load(f)\n",
    "        for i in employee1.keys():\n",
    "                x=employee[i]\n",
    "                if(x[\"salary\"]>20000):\n",
    "                        print(f\"Id = {i} Name = {x['name']} Salary = {x['salary']}\")\n",
    "        f.close()\n",
    "\n",
    "        \n",
    "bwrite(employee)\n",
    "bextract()"
   ]
  },
  {
   "cell_type": "code",
   "execution_count": null,
   "id": "90b16a70-1a87-442d-912e-311716ea23d2",
   "metadata": {},
   "outputs": [],
   "source": []
  }
 ],
 "metadata": {
  "kernelspec": {
   "display_name": "Python 3 (ipykernel)",
   "language": "python",
   "name": "python3"
  },
  "language_info": {
   "codemirror_mode": {
    "name": "ipython",
    "version": 3
   },
   "file_extension": ".py",
   "mimetype": "text/x-python",
   "name": "python",
   "nbconvert_exporter": "python",
   "pygments_lexer": "ipython3",
   "version": "3.11.9"
  }
 },
 "nbformat": 4,
 "nbformat_minor": 5
}
