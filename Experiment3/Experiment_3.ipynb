{
 "cells": [
  {
   "cell_type": "markdown",
   "id": "61206715-f857-4484-9131-0a6a5732f0f0",
   "metadata": {},
   "source": [
    "Whitewash and Flooring Calculator"
   ]
  },
  {
   "cell_type": "code",
   "execution_count": 1,
   "id": "64d616b7-f6b4-43d8-9a85-c8c8b1aafe6b",
   "metadata": {},
   "outputs": [
    {
     "name": "stdin",
     "output_type": "stream",
     "text": [
      "Enter the length  10\n",
      "Enter the width  10\n",
      "Enter the height  10\n"
     ]
    },
    {
     "name": "stdout",
     "output_type": "stream",
     "text": [
      "Whitewashing Area 600.0\n",
      "Whitewashing Cost 7500.0\n"
     ]
    },
    {
     "name": "stdin",
     "output_type": "stream",
     "text": [
      "Enter the flooring material  Cement\n"
     ]
    },
    {
     "name": "stdout",
     "output_type": "stream",
     "text": [
      "Cement Flooring cost 5500.0\n"
     ]
    }
   ],
   "source": [
    "def whitewashing_Area(l,w,h):\n",
    "    print(f\"Whitewashing Area {2*(l*w+w*h+h*l)}\")\n",
    "    return 2*(l*w+w*h+h*l)-l*w\n",
    "def whitewashing_Cost(a):\n",
    "    print(f\"Whitewashing Cost {a*15}\")\n",
    "def flooring_Cost(l,w,c):\n",
    "    if(c==\"Mosaic\"):\n",
    "        print(f\"Mosaic Flooring cost {l*w*100}\")\n",
    "    elif(c==\"Cement\"):\n",
    "        print(f\"Cement Flooring cost {l*w*55}\")\n",
    "\n",
    "l = float(input(\"Enter the length \"))\n",
    "w = float(input(\"Enter the width \"))\n",
    "h = float(input(\"Enter the height \"))\n",
    "a = whitewashing_Area(l,w,h)\n",
    "whitewashing_Cost(a)\n",
    "c = input(\"Enter the flooring material \")\n",
    "flooring_Cost(l,w,c)"
   ]
  },
  {
   "cell_type": "markdown",
   "id": "a9540f10-d707-472d-9dba-7ee5fd48e378",
   "metadata": {},
   "source": [
    "Marks Calculator"
   ]
  },
  {
   "cell_type": "code",
   "execution_count": 3,
   "id": "457255cd-f7cd-413b-8539-39cb4b08f6cb",
   "metadata": {},
   "outputs": [
    {
     "name": "stdin",
     "output_type": "stream",
     "text": [
      "Enter the student Id  1\n",
      "Enter the student name  Sailesh\n",
      "Enter marks for subject 1  80\n",
      "Enter marks for subject 2  90\n",
      "Enter marks for subject 3  80\n",
      "Enter marks for subject 4  90\n",
      "Enter marks for subject 5  80\n"
     ]
    },
    {
     "name": "stdout",
     "output_type": "stream",
     "text": [
      "Total marks = 420\n",
      "Student's average 84.0 and grade A\n"
     ]
    }
   ],
   "source": [
    "def marks_Calculator(Id,name,marks):\n",
    "    Total = 0\n",
    "    for i in range(5):\n",
    "        Total += marks[i]\n",
    "    print(f\"Total marks = {Total}\")\n",
    "    avg = Total/5;\n",
    "    if(90<avg<=100):\n",
    "            grade = \"S\"\n",
    "    elif(85<avg<=90):\n",
    "            grade = \"A+\"           \n",
    "    elif(75<avg<=85):\n",
    "            grade = \"A\"\n",
    "    elif(70<avg<=75):\n",
    "            grade = \"B\"\n",
    "    elif(60<avg<=70):\n",
    "            grade = \"C\"\n",
    "    elif(50<avg<=60):\n",
    "            grade = \"D\"\n",
    "    else:\n",
    "            grade = \"F\"\n",
    "    print(f\"Student's average {avg} and grade {grade}\")\n",
    "def stu_marks():\n",
    "    marks = []\n",
    "    for i in range(5):\n",
    "        m=int(input(f\"Enter marks for subject {i+1} \"))\n",
    "        marks.append(m)\n",
    "    return marks\n",
    "Id = int(input(\"Enter the student Id \"))\n",
    "name = input(\"Enter the student name \")\n",
    "marks_Calculator(Id,name,stu_marks())"
   ]
  },
  {
   "cell_type": "markdown",
   "id": "e46f30c2-439c-42b5-b8d0-eb29a7d656ee",
   "metadata": {},
   "source": [
    "Date Time Module"
   ]
  },
  {
   "cell_type": "code",
   "execution_count": 4,
   "id": "2d9d6850-a6b0-4018-bc76-559c86b67449",
   "metadata": {},
   "outputs": [
    {
     "name": "stdout",
     "output_type": "stream",
     "text": [
      "Current Date 2024-02-12\n",
      "Enter the day,month,year\n"
     ]
    },
    {
     "name": "stdin",
     "output_type": "stream",
     "text": [
      " 10\n",
      " 10\n",
      " 2024\n"
     ]
    },
    {
     "name": "stdout",
     "output_type": "stream",
     "text": [
      "Given year is 2024-10-10\n",
      "Given year is leap year\n",
      "Day Difference 241\n"
     ]
    }
   ],
   "source": [
    "import datetime as dt\n",
    "import calendar as cl\n",
    "\n",
    "date_now = dt.date.today()\n",
    "\n",
    "print(f\"Current Date {str(date_now)}\")\n",
    "print(\"Enter the day,month,year\")\n",
    "dl = []\n",
    "for i in range(3):\n",
    "    dl.append(int(input()))\n",
    "date_find = dt.date(dl[2],dl[1],dl[0])\n",
    "print(f\"Given year is {str(date_find)}\")\n",
    "if(cl.isleap(date_find.year)):\n",
    "    print(\"Given year is leap year\")\n",
    "else:\n",
    "    print(\"Given year is not leap year\")\n",
    "print(f\"Day Difference {str((date_find - date_now).days)}\")"
   ]
  },
  {
   "cell_type": "markdown",
   "id": "f0f2f3e7-56d0-46c9-b12b-8b0a6a101e52",
   "metadata": {},
   "source": [
    "String functions using recursion"
   ]
  },
  {
   "cell_type": "code",
   "execution_count": 5,
   "id": "2dda6e04-5f42-4c83-a5f6-f706eaa4478c",
   "metadata": {},
   "outputs": [
    {
     "name": "stdin",
     "output_type": "stream",
     "text": [
      "Enter string 1  Sailesh\n",
      "Enter string 2  Sail\n"
     ]
    },
    {
     "name": "stdout",
     "output_type": "stream",
     "text": [
      "S\n",
      "a\n",
      "i\n",
      "l\n",
      "e\n",
      "s\n",
      "h\n",
      "Number of vowels in string 3\n",
      "Length of string is 7 and number of characters on screen is 7\n",
      "Reverse equality check False\n"
     ]
    }
   ],
   "source": [
    "def str_rev_check(s1,s2,s3=\"\",i=0,v=0):\n",
    "    if(i<len(s1) and len(s1) > 0):\n",
    "        print(s1[i])\n",
    "        s3+=s1[i]\n",
    "        if(s1[i] in [\"a\",\"e\",\"i\",\"o\",\"u\"]):\n",
    "            v+=1\n",
    "        i+=1 \n",
    "        return str_rev_check(s1,s2,s3,i,v)\n",
    "    else:\n",
    "        print (f\"Number of vowels in string {v}\")\n",
    "        print (f\"Length of string is {len(s1)} and number of characters on screen is {i}\")\n",
    "        return(s3[::-1]==s2)\n",
    "\n",
    "s1 = input(\"Enter string 1 \")\n",
    "s2 = input(\"Enter string 2 \")\n",
    "\n",
    "print(f\"Reverse equality check {str_rev_check(s1,s2)}\")"
   ]
  },
  {
   "cell_type": "code",
   "execution_count": null,
   "id": "15c7fb46-aa94-4dd0-9c79-1d5dbb0c1d1e",
   "metadata": {},
   "outputs": [],
   "source": []
  }
 ],
 "metadata": {
  "kernelspec": {
   "display_name": "Python 3 (ipykernel)",
   "language": "python",
   "name": "python3"
  },
  "language_info": {
   "codemirror_mode": {
    "name": "ipython",
    "version": 3
   },
   "file_extension": ".py",
   "mimetype": "text/x-python",
   "name": "python",
   "nbconvert_exporter": "python",
   "pygments_lexer": "ipython3",
   "version": "3.12.2"
  }
 },
 "nbformat": 4,
 "nbformat_minor": 5
}
