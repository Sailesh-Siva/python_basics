{
 "cells": [
  {
   "cell_type": "markdown",
   "id": "c6d83052-e945-4fdc-8cdf-f4ca3a9be004",
   "metadata": {},
   "source": [
    "GCD and Reversing Number"
   ]
  },
  {
   "cell_type": "code",
   "execution_count": 1,
   "id": "0a8f0d77-1c83-42ad-af48-9798e6a1a6b0",
   "metadata": {},
   "outputs": [
    {
     "name": "stdout",
     "output_type": "stream",
     "text": [
      "3\n",
      "321\n",
      "3\n",
      "321\n",
      "3\n",
      "321\n",
      "3\n",
      "321\n"
     ]
    }
   ],
   "source": [
    "#Run Module\n",
    "import functions\n",
    "\n",
    "print(functions.GCD(6,21))\n",
    "print(functions.revNo(123))\n",
    "\n",
    "import functions as f\n",
    "\n",
    "print(functions.GCD(6,21))\n",
    "print(functions.revNo(123))\n",
    "\n",
    "\n",
    "from functions import GCD,revNo\n",
    "\n",
    "print(GCD(6,21))\n",
    "print(revNo(123))\n",
    "\n",
    "from functions import *\n",
    "\n",
    "print(GCD(6,21))\n",
    "print(revNo(123))    "
   ]
  },
  {
   "cell_type": "markdown",
   "id": "08f1b288-df22-4a81-b13e-5b359236fcb3",
   "metadata": {},
   "source": [
    "Interest Calculation"
   ]
  },
  {
   "cell_type": "code",
   "execution_count": 2,
   "id": "3cac5eb0-f119-4e46-a242-deb94b1afd58",
   "metadata": {},
   "outputs": [
    {
     "name": "stdin",
     "output_type": "stream",
     "text": [
      "Enter principle  1000\n",
      "Enter number of years  10\n",
      "Enter rate of interest  10\n"
     ]
    },
    {
     "name": "stdout",
     "output_type": "stream",
     "text": [
      "1000.0\n",
      "1691.5880290736077\n"
     ]
    }
   ],
   "source": [
    "#Calculation Module\n",
    "from interest import *\n",
    "\n",
    "p = float(input(\"Enter principle \"))\n",
    "n = float(input(\"Enter number of years \"))\n",
    "r = float(input(\"Enter rate of interest \"))\n",
    "print(simp_intr(p,n,r))\n",
    "print(comp_intr(p,n,r))"
   ]
  },
  {
   "cell_type": "markdown",
   "id": "bc920bc7-db64-4f9d-883a-3af3ac111150",
   "metadata": {},
   "source": [
    "Salary Calculation"
   ]
  },
  {
   "cell_type": "code",
   "execution_count": 14,
   "id": "ae76a92e-6c08-4df9-b058-176e1a99196c",
   "metadata": {},
   "outputs": [
    {
     "name": "stdin",
     "output_type": "stream",
     "text": [
      "Enter basic pay 10\n",
      "Enter basic pay 20\n",
      "Enter basic pay 30\n",
      "Enter basic pay 40\n",
      "Enter basic pay 50\n"
     ]
    },
    {
     "name": "stdout",
     "output_type": "stream",
     "text": [
      "[11.1, 22.2, 33.3, 44.4, 55.5]\n"
     ]
    }
   ],
   "source": [
    "def calculation(bp): \n",
    "    def net_sal(bp,hra,ta,pf):\n",
    "        netsal=[]\n",
    "        for i in range(5):\n",
    "            netsal.append(bp[i]+hra[i]+ta[i]-pf[i])\n",
    "        return netsal\n",
    "    hra = []\n",
    "    ta = []\n",
    "    pf = []\n",
    "    for i in range(5):\n",
    "        hra.append(0.10*bp[i])\n",
    "        ta.append(0.05*bp[i])\n",
    "        pf.append(0.04*bp[i])\n",
    "\n",
    "    return net_sal(bp,hra,ta,pf)\n",
    "\n",
    "bp = []\n",
    "for i in range(5):\n",
    "    bp.append(float(input(\"Enter basic pay\")))\n",
    "\n",
    "print(calculation(bp))\n",
    "    \n",
    "        "
   ]
  },
  {
   "cell_type": "markdown",
   "id": "0fddc3cf-0060-4f87-80a7-866047781879",
   "metadata": {},
   "source": [
    "Caesar Cipher Encryption"
   ]
  },
  {
   "cell_type": "code",
   "execution_count": 21,
   "id": "62cccc35-4525-49e4-96ad-59e6e533b6cb",
   "metadata": {},
   "outputs": [
    {
     "name": "stdin",
     "output_type": "stream",
     "text": [
      "Enter the characters d\n",
      "Enter the characters e\n",
      "Enter the characters f\n"
     ]
    },
    {
     "name": "stdout",
     "output_type": "stream",
     "text": [
      "['f', 'g', 'h']\n"
     ]
    }
   ],
   "source": [
    "inp = []\n",
    "for i in range(3):\n",
    "    inp.append(input(\"Enter the characters\"))\n",
    "    inp[i]=chr(ord(inp[i])+2)\n",
    "print(inp)\n"
   ]
  },
  {
   "cell_type": "markdown",
   "id": "183897e6-3c1b-4997-83fa-92080e85b428",
   "metadata": {},
   "source": [
    "Tuple packing and unpacking"
   ]
  },
  {
   "cell_type": "code",
   "execution_count": 47,
   "id": "2f282f89-1b6b-4937-99f8-f87d059890df",
   "metadata": {},
   "outputs": [
    {
     "name": "stdin",
     "output_type": "stream",
     "text": [
      "Enter name Sailesh\n",
      "Enter age 20\n",
      "Enter address 3rd Street Tamil Nager Thanjavur\n"
     ]
    },
    {
     "name": "stdout",
     "output_type": "stream",
     "text": [
      "Name: Sailesh \n",
      "Age: 20 \n",
      "Address: 3rd Street Tamil Nager Thanjavur\n"
     ]
    }
   ],
   "source": [
    "def inp():\n",
    "    name = input(\"Enter name\")\n",
    "    age = int(input(\"Enter age\"))\n",
    "    while(age<1):\n",
    "        age = int(input(\"Enter age above 0\"))\n",
    "    add = input(\"Enter address\")\n",
    "    t = (name,age,add)\n",
    "    return t\n",
    "def unpack(t):\n",
    "    name,age,address = t\n",
    "    print(f\"Name: {name} \\nAge: {age} \\nAddress: {address}\")\n",
    "    \n",
    "unpack(inp())"
   ]
  },
  {
   "cell_type": "code",
   "execution_count": null,
   "id": "73e94b43-8b9a-4fc0-8c1f-a195572bd853",
   "metadata": {},
   "outputs": [],
   "source": []
  }
 ],
 "metadata": {
  "kernelspec": {
   "display_name": "Python 3 (ipykernel)",
   "language": "python",
   "name": "python3"
  },
  "language_info": {
   "codemirror_mode": {
    "name": "ipython",
    "version": 3
   },
   "file_extension": ".py",
   "mimetype": "text/x-python",
   "name": "python",
   "nbconvert_exporter": "python",
   "pygments_lexer": "ipython3",
   "version": "3.12.2"
  }
 },
 "nbformat": 4,
 "nbformat_minor": 5
}
