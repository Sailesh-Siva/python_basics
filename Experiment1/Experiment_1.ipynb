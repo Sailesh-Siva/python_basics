{
 "cells": [
  {
   "cell_type": "markdown",
   "id": "80daae4a-9eed-4fbc-9f74-7f4c41a801d1",
   "metadata": {},
   "source": [
    "Operator Precedence"
   ]
  },
  {
   "cell_type": "code",
   "execution_count": 12,
   "id": "8d434841-7f06-4cd1-a5a7-89b7f51cb69d",
   "metadata": {},
   "outputs": [
    {
     "name": "stdin",
     "output_type": "stream",
     "text": [
      "Enter a  5\n",
      "Enter b  10\n",
      "Enter c  15\n"
     ]
    },
    {
     "name": "stdout",
     "output_type": "stream",
     "text": [
      "Result -10.0\n"
     ]
    }
   ],
   "source": [
    "a = int(input(\"Enter a \"))\n",
    "b = int(input(\"Enter b \"))\n",
    "c = int(input(\"Enter c \"))\n",
    "\n",
    "result = a + b * c / a ** b // a - c\n",
    "\n",
    "print(f\"Result {result}\")"
   ]
  },
  {
   "cell_type": "markdown",
   "id": "12e47728-f950-4045-8081-f9cd071387bb",
   "metadata": {},
   "source": [
    "Operator Precedence with Compound Assignment"
   ]
  },
  {
   "cell_type": "code",
   "execution_count": 16,
   "id": "de116c80-ad78-4673-9992-d0a5f6781ca9",
   "metadata": {},
   "outputs": [
    {
     "name": "stdin",
     "output_type": "stream",
     "text": [
      "Enter a  20\n",
      "Enter b  7\n",
      "Enter c  5\n"
     ]
    },
    {
     "name": "stdout",
     "output_type": "stream",
     "text": [
      "Result 9.5\n"
     ]
    }
   ],
   "source": [
    "a = int(input(\"Enter a \"))\n",
    "b = int(input(\"Enter b \"))\n",
    "c = int(input(\"Enter c \"))\n",
    "\n",
    "a -= 10\n",
    "b *= a\n",
    "c /= 10\n",
    "\n",
    "result = a + b * c / a ** b // a - c\n",
    "\n",
    "print(f\"Result {result}\")"
   ]
  },
  {
   "cell_type": "markdown",
   "id": "179a4abd-ba08-462d-9309-e5dcd8f9321b",
   "metadata": {},
   "source": [
    "Fahrenheit to Celsius and Celsius to Fahrenheit"
   ]
  },
  {
   "cell_type": "raw",
   "id": "dafac7ba-b129-45d0-9a85-4a66c2da7314",
   "metadata": {},
   "source": [
    "f = float(input(\"Enter the fahrenheit\"))\n",
    "c = float(input(\"Enter the celsius\"))\n",
    "\n",
    "fc = (f - 32) * 5/9\n",
    "cf = (c * 9/5) + 32\n",
    "\n",
    "print(f\"The converted values are {fc} and {cf}\")"
   ]
  },
  {
   "cell_type": "markdown",
   "id": "74ea1476-4646-4fb3-8986-914950ed0569",
   "metadata": {},
   "source": [
    "Simple and Compound Interest"
   ]
  },
  {
   "cell_type": "code",
   "execution_count": 10,
   "id": "295cc805-2fee-408f-8d23-0c01a2a187d1",
   "metadata": {},
   "outputs": [
    {
     "name": "stdin",
     "output_type": "stream",
     "text": [
      "Enter principle  100\n",
      "Enter rate  10\n",
      "Enter time  1\n",
      "Enter number of periods  10\n"
     ]
    },
    {
     "name": "stdout",
     "output_type": "stream",
     "text": [
      "Simple Interest = 1000.0\n",
      "Compound Interest = 1.0\n"
     ]
    }
   ],
   "source": [
    "principle = float(input(\"Enter principle \"))\n",
    "rate = float(input(\"Enter rate \"))\n",
    "time = float(input(\"Enter time \"))\n",
    "period = float(input(\"Enter number of periods \"))\n",
    "\n",
    "simple_interest = principle*rate*time\n",
    "print(f\"Simple Interest = {simple_interest}\")\n",
    "\n",
    "compound_interest = (principle*rate/(period*100))**(period*time)\n",
    "print(f\"Compound Interest = {compound_interest}\")"
   ]
  },
  {
   "cell_type": "markdown",
   "id": "fe17266e-4917-4286-ba50-acfe7175c52d",
   "metadata": {},
   "source": [
    "Area of Circle, Rectangle and Triangle"
   ]
  },
  {
   "cell_type": "code",
   "execution_count": 2,
   "id": "76c78e08-5863-4c56-b134-739508cb772b",
   "metadata": {},
   "outputs": [
    {
     "name": "stdin",
     "output_type": "stream",
     "text": [
      "Enter length  10\n",
      "Enter breadth  10\n"
     ]
    },
    {
     "name": "stdout",
     "output_type": "stream",
     "text": [
      "Area of rectangle = 100.0\n"
     ]
    },
    {
     "name": "stdin",
     "output_type": "stream",
     "text": [
      "Enter radius  10\n"
     ]
    },
    {
     "name": "stdout",
     "output_type": "stream",
     "text": [
      "Area of circle = 314.0\n"
     ]
    },
    {
     "name": "stdin",
     "output_type": "stream",
     "text": [
      "Enter height  10\n",
      "Enter base  10\n"
     ]
    },
    {
     "name": "stdout",
     "output_type": "stream",
     "text": [
      "Area of triangle = 50.0\n"
     ]
    }
   ],
   "source": [
    "length = float(input(\"Enter length \"))\n",
    "breadth = float(input(\"Enter breadth \"))\n",
    "area = length*breadth\n",
    "print(f\"Area of rectangle = {area}\")\n",
    "\n",
    "radius = float(input(\"Enter radius \"))\n",
    "area = 3.14*radius**2\n",
    "print(f\"Area of circle = {area}\")\n",
    "\n",
    "height = float(input(\"Enter height \"))\n",
    "base = float(input(\"Enter base \"))\n",
    "area = 0.5*height*base\n",
    "print(f\"Area of triangle = {area}\")"
   ]
  },
  {
   "cell_type": "markdown",
   "id": "6c702b92-6141-4bc8-afe5-c2828e5ed291",
   "metadata": {},
   "source": [
    "String to Integer"
   ]
  },
  {
   "cell_type": "code",
   "execution_count": 14,
   "id": "61c2879a-5ddd-4c78-953a-aaec881f04a0",
   "metadata": {},
   "outputs": [
    {
     "name": "stdin",
     "output_type": "stream",
     "text": [
      "Enter the String  20\n"
     ]
    },
    {
     "name": "stdout",
     "output_type": "stream",
     "text": [
      "Sum of input and 10 is 30\n"
     ]
    }
   ],
   "source": [
    "n1 = input(\"Enter the String \") \n",
    "n1 = int(n1)\n",
    "n2 = 10\n",
    "sum = n1 + n2\n",
    "print(f\"Sum of input and 10 is {sum}\")"
   ]
  },
  {
   "cell_type": "markdown",
   "id": "b363225b-3021-41bc-932f-ee8e7cfbf48d",
   "metadata": {},
   "source": [
    "String Reversal"
   ]
  },
  {
   "cell_type": "code",
   "execution_count": 19,
   "id": "384116a5-f4f3-4d5c-8f22-04d4eb7b847a",
   "metadata": {},
   "outputs": [
    {
     "name": "stdin",
     "output_type": "stream",
     "text": [
      "Enter the String Sailesh\n"
     ]
    },
    {
     "name": "stdout",
     "output_type": "stream",
     "text": [
      "hseliaS\n"
     ]
    }
   ],
   "source": [
    "s1 = input(\"Enter the String\")\n",
    "print(s1[::-1])"
   ]
  },
  {
   "cell_type": "markdown",
   "id": "0de0966e-27f6-4423-b02b-5d0d3593fc74",
   "metadata": {},
   "source": [
    "Palindrome"
   ]
  },
  {
   "cell_type": "code",
   "execution_count": 4,
   "id": "2fe4536b-a5f2-442b-9d8c-6cb32f317baa",
   "metadata": {},
   "outputs": [
    {
     "name": "stdin",
     "output_type": "stream",
     "text": [
      "Enter the string  123Madam321\n"
     ]
    },
    {
     "name": "stdout",
     "output_type": "stream",
     "text": [
      "Palindrome True\n"
     ]
    }
   ],
   "source": [
    "s1 = input(\"Enter the string \").lower()\n",
    "s2 = \"\"\n",
    "for i in range (0,len(s1)):\n",
    "    if(s1[i].isalnum()):\n",
    "        s2+=s1[i]\n",
    "s2=s2[::-1]\n",
    "print(f\"Palindrome {s1==s2}\")"
   ]
  },
  {
   "cell_type": "markdown",
   "id": "fdf99018-2ca6-488e-aabe-bf6d81494dc3",
   "metadata": {},
   "source": [
    "Substring"
   ]
  },
  {
   "cell_type": "code",
   "execution_count": 5,
   "id": "bc166d14-0816-45b7-9707-001766d2c6a3",
   "metadata": {},
   "outputs": [
    {
     "name": "stdin",
     "output_type": "stream",
     "text": [
      "Enter string 1  Sailesh\n",
      "Enter string 2  les\n"
     ]
    },
    {
     "name": "stdout",
     "output_type": "stream",
     "text": [
      "Found True\n"
     ]
    }
   ],
   "source": [
    "s1 = input(\"Enter string 1 \")\n",
    "s2 = input(\"Enter string 2 \")\n",
    "\n",
    "print(f\"Found {bool(s1.find(s2)+1)}\")"
   ]
  },
  {
   "cell_type": "markdown",
   "id": "e0e77baf-6604-4bca-834e-8156733fe59c",
   "metadata": {},
   "source": [
    "String Concatenation"
   ]
  },
  {
   "cell_type": "code",
   "execution_count": 7,
   "id": "9de0763f-7704-415b-ac26-1c132d2bc267",
   "metadata": {},
   "outputs": [
    {
     "name": "stdin",
     "output_type": "stream",
     "text": [
      "Enter the string  Sail\n"
     ]
    },
    {
     "name": "stdout",
     "output_type": "stream",
     "text": [
      "Sailing\n"
     ]
    }
   ],
   "source": [
    "s = input(\"Enter the string \")\n",
    "if(len(s)>2):\n",
    "    if(s.find(\"ing\")!=-1):\n",
    "        s+=\"ly\"\n",
    "    else:\n",
    "        s+=\"ing\"\n",
    "print(s)"
   ]
  },
  {
   "cell_type": "code",
   "execution_count": null,
   "id": "408ad803-f1d0-4348-a042-4866cd2aa609",
   "metadata": {},
   "outputs": [],
   "source": []
  }
 ],
 "metadata": {
  "kernelspec": {
   "display_name": "Python 3 (ipykernel)",
   "language": "python",
   "name": "python3"
  },
  "language_info": {
   "codemirror_mode": {
    "name": "ipython",
    "version": 3
   },
   "file_extension": ".py",
   "mimetype": "text/x-python",
   "name": "python",
   "nbconvert_exporter": "python",
   "pygments_lexer": "ipython3",
   "version": "3.11.9"
  }
 },
 "nbformat": 4,
 "nbformat_minor": 5
}
