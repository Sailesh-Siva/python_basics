{
 "cells": [
  {
   "cell_type": "markdown",
   "id": "24638e6c-d04d-47b9-90e4-c13b28cd7e41",
   "metadata": {},
   "source": [
    "Random Guess"
   ]
  },
  {
   "cell_type": "code",
   "execution_count": 2,
   "id": "8884fcea-05d3-45ce-b3ac-7a419978e563",
   "metadata": {},
   "outputs": [
    {
     "name": "stdin",
     "output_type": "stream",
     "text": [
      "Take a guess  4\n",
      "Take a guess  4\n"
     ]
    },
    {
     "name": "stdout",
     "output_type": "stream",
     "text": [
      "Well Guessed!\n"
     ]
    }
   ],
   "source": [
    "import random\r\n",
    "while(True):\r\n",
    "    n1 = random.randrange(1,10,1)\r\n",
    "    n2 = int(input(\"Take a guess \"))\r\n",
    "    if(n1==n2):\r\n",
    "        print(\"Well Guessed!\")\r\n",
    "        break"
   ]
  },
  {
   "cell_type": "markdown",
   "id": "e16f7a49-7db6-4759-90f2-bc5acce50a34",
   "metadata": {},
   "source": [
    "BMI"
   ]
  },
  {
   "cell_type": "code",
   "execution_count": 2,
   "id": "588338f8-d7df-4289-a7f0-eecacef16f6f",
   "metadata": {},
   "outputs": [
    {
     "name": "stdin",
     "output_type": "stream",
     "text": [
      "Enter the weight  60\n",
      "Enter the height  1.8\n"
     ]
    },
    {
     "name": "stdout",
     "output_type": "stream",
     "text": [
      "Normal Weight\n"
     ]
    }
   ],
   "source": [
    "weight = float(input(\"Enter the weight \"))\n",
    "height = float(input(\"Enter the height \"))\n",
    "bmi = weight / (height ** 2)\n",
    "if(bmi < 18.5):\n",
    "    print(\"Underweight\")\n",
    "elif(18.5 <= bmi < 25):\n",
    "    print(\"Normal Weight\")\n",
    "elif(25 <= bmi < 30):\n",
    "    print(\"Over Weight\")\n",
    "else:\n",
    "    print(\"Obese\")"
   ]
  },
  {
   "cell_type": "markdown",
   "id": "16cf0e19-97e1-403e-82c9-77d6deb3141a",
   "metadata": {},
   "source": [
    "Password Check"
   ]
  },
  {
   "cell_type": "code",
   "execution_count": 6,
   "id": "d059519a-0ede-4e6e-a783-41ce15db3338",
   "metadata": {},
   "outputs": [
    {
     "name": "stdin",
     "output_type": "stream",
     "text": [
      "Enter the password  Sailesh1%@sastra.ac.in\n"
     ]
    },
    {
     "name": "stdout",
     "output_type": "stream",
     "text": [
      "Strong\n"
     ]
    }
   ],
   "source": [
    "s = input(\"Enter the password \")\n",
    "if(len(s)>7):\n",
    "    if(s.islower()== False and s.isupper() == False and s.isalpha() == False):\n",
    "        if(s.isalnum()== True):\n",
    "            print(\"Moderate\")\n",
    "        else:\n",
    "            if(s.find(\"@sastra.ac.in\")!=-1 or s.find(\"@sastra.edu\")!=-1):\n",
    "                print(\"Strong\")\n",
    "            else:\n",
    "                print(\"Wrong Domain\")\n",
    "    else:\n",
    "        print(\"Weak\")\n",
    "else:\n",
    "    print(\"Weak\")"
   ]
  },
  {
   "cell_type": "markdown",
   "id": "838e9e54-f577-422f-bd4b-e9c0b9590966",
   "metadata": {},
   "source": [
    "Rock, Paper Scissors"
   ]
  },
  {
   "cell_type": "code",
   "execution_count": 1,
   "id": "1a507469-5078-49e9-a8a3-e2622fb1235d",
   "metadata": {},
   "outputs": [
    {
     "name": "stdout",
     "output_type": "stream",
     "text": [
      "Welcome to Rock Paper Scissors Game!\n",
      "1. Rock\n",
      "2. Paper\n",
      "3. Scissors\n",
      "4. Exit\n"
     ]
    },
    {
     "name": "stdin",
     "output_type": "stream",
     "text": [
      "Enter your choice (1-4)  1\n"
     ]
    },
    {
     "name": "stdout",
     "output_type": "stream",
     "text": [
      "You chose Rock\n",
      "Computer chose Rock\n",
      "Draw!\n"
     ]
    },
    {
     "name": "stdin",
     "output_type": "stream",
     "text": [
      "Enter your choice (1-4)  2\n"
     ]
    },
    {
     "name": "stdout",
     "output_type": "stream",
     "text": [
      "You chose Paper\n",
      "Computer chose Rock\n",
      "You Win!\n"
     ]
    },
    {
     "name": "stdin",
     "output_type": "stream",
     "text": [
      "Enter your choice (1-4)  3\n"
     ]
    },
    {
     "name": "stdout",
     "output_type": "stream",
     "text": [
      "You chose Scissors\n",
      "Computer chose Scissors\n",
      "Draw!\n"
     ]
    },
    {
     "name": "stdin",
     "output_type": "stream",
     "text": [
      "Enter your choice (1-4)  4\n"
     ]
    },
    {
     "name": "stdout",
     "output_type": "stream",
     "text": [
      "Thank you for playing\n"
     ]
    }
   ],
   "source": [
    "import random\n",
    "print(\"Welcome to Rock Paper Scissors Game!\")\n",
    "print(\"1. Rock\")\n",
    "print(\"2. Paper\")\n",
    "print(\"3. Scissors\")\n",
    "print(\"4. Exit\")\n",
    "while(True):\n",
    "    u = int(input(\"Enter your choice (1-4) \"))\n",
    "    e = random.randrange(1,4)\n",
    "    if(u == 1 and e == 1):\n",
    "            print(\"You chose Rock\")\n",
    "            print(\"Computer chose Rock\")\n",
    "            print(\"Draw!\")\n",
    "    elif(u == 1 and e == 2):\n",
    "            print(\"You chose Rock\")\n",
    "            print(\"Computer chose Paper\")\n",
    "            print(\"Computer wins!\")            \n",
    "    elif(u == 1 and e == 3):\n",
    "            print(\"You chose Rock\")\n",
    "            print(\"Computer chose Scissors\")\n",
    "            print(\"You Win!\")\n",
    "    elif(u == 2 and e == 1):\n",
    "            print(\"You chose Paper\")\n",
    "            print(\"Computer chose Rock\")\n",
    "            print(\"You Win!\")\n",
    "    elif(u == 2 and e == 2):\n",
    "            print(\"You chose Paper\")\n",
    "            print(\"Computer chose Paper\")\n",
    "            print(\"Draw!\")\n",
    "    elif(u == 2 and e == 3):\n",
    "            print(\"You chose Paper\")\n",
    "            print(\"Computer chose Scissors\")\n",
    "            print(\"Computer wins!\")\n",
    "    elif(u == 3 and e == 1):\n",
    "            print(\"You chose Scissors\")\n",
    "            print(\"Computer chose Rock\")\n",
    "            print(\"Computer wins!\")\n",
    "    elif(u == 3 and e == 2):\n",
    "            print(\"You chose Scissors\")\n",
    "            print(\"Computer chose Paper\")\n",
    "            print(\"You Win!\")\n",
    "    elif(u == 3 and e == 3):\n",
    "            print(\"You chose Scissors\")\n",
    "            print(\"Computer chose Scissors\")\n",
    "            print(\"Draw!\")\n",
    "    else:\n",
    "            print(\"Thank you for playing\")\n",
    "            break"
   ]
  },
  {
   "cell_type": "code",
   "execution_count": null,
   "id": "51922f2b-c743-40ee-8702-ac1bbf8afec0",
   "metadata": {},
   "outputs": [],
   "source": []
  }
 ],
 "metadata": {
  "kernelspec": {
   "display_name": "Python 3 (ipykernel)",
   "language": "python",
   "name": "python3"
  },
  "language_info": {
   "codemirror_mode": {
    "name": "ipython",
    "version": 3
   },
   "file_extension": ".py",
   "mimetype": "text/x-python",
   "name": "python",
   "nbconvert_exporter": "python",
   "pygments_lexer": "ipython3",
   "version": "3.12.2"
  }
 },
 "nbformat": 4,
 "nbformat_minor": 5
}
