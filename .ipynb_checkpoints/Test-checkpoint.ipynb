{
 "cells": [
  {
   "cell_type": "code",
   "execution_count": 10,
   "id": "adfe9f4d-d429-4c23-bab4-5479aa491774",
   "metadata": {},
   "outputs": [
    {
     "name": "stdout",
     "output_type": "stream",
     "text": [
      "<class 'list'> ['sfadsgf asdgf asd\\n', 'f asdf asdf \\n', 'asdf asdf asdf \\n', 'asdf asdsf dsdf ']\n"
     ]
    }
   ],
   "source": [
    "f = open(\"Text.txt\",\"r\")\n",
    "s = f.readlines()\n",
    "print(type(s),s)\n",
    "#print(s)\n",
    "f.close()"
   ]
  },
  {
   "cell_type": "code",
   "execution_count": 20,
   "id": "05e0ee45-9845-4231-8156-e82cac7504c3",
   "metadata": {},
   "outputs": [
    {
     "name": "stdout",
     "output_type": "stream",
     "text": [
      "<class 'list'> Testing \n",
      "<class 'list'>  check"
     ]
    },
    {
     "ename": "ModuleNotFoundError",
     "evalue": "No module named 'Test'",
     "output_type": "error",
     "traceback": [
      "\u001b[1;31m---------------------------------------------------------------------------\u001b[0m",
      "\u001b[1;31mModuleNotFoundError\u001b[0m                       Traceback (most recent call last)",
      "Cell \u001b[1;32mIn[20], line 14\u001b[0m\n\u001b[0;32m     12\u001b[0m     f\u001b[38;5;241m.\u001b[39mclose()\n\u001b[0;32m     13\u001b[0m testing()\n\u001b[1;32m---> 14\u001b[0m \u001b[38;5;28;01mimport\u001b[39;00m \u001b[38;5;21;01mTest\u001b[39;00m\n\u001b[0;32m     15\u001b[0m help(Test)\n",
      "\u001b[1;31mModuleNotFoundError\u001b[0m: No module named 'Test'"
     ]
    }
   ],
   "source": [
    "\"\"\"This is a text doct\"\"\"\n",
    "def testing():\n",
    "    \"\"\"Function executed\"\"\"\n",
    "    f = open(\"Text.txt\",\"w\")\n",
    "    f.write(\"Testing \\n check\")\n",
    "    f.close()\n",
    "    f = open(\"Text.txt\",\"r\")\n",
    "    s = f.readlines()\n",
    "    print(type(s),s[0],end=\"\")\n",
    "    print(type(s),s[1],end=\"\")\n",
    "    #print(s)\n",
    "    f.close()\n",
    "testing()\n",
    "import Test\n",
    "help(Test)"
   ]
  },
  {
   "cell_type": "code",
   "execution_count": null,
   "id": "bfa9c941-cbec-4c35-bf91-23ec79d58760",
   "metadata": {},
   "outputs": [],
   "source": []
  }
 ],
 "metadata": {
  "kernelspec": {
   "display_name": "Python 3 (ipykernel)",
   "language": "python",
   "name": "python3"
  },
  "language_info": {
   "codemirror_mode": {
    "name": "ipython",
    "version": 3
   },
   "file_extension": ".py",
   "mimetype": "text/x-python",
   "name": "python",
   "nbconvert_exporter": "python",
   "pygments_lexer": "ipython3",
   "version": "3.12.2"
  }
 },
 "nbformat": 4,
 "nbformat_minor": 5
}
