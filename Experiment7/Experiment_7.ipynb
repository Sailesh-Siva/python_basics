{
 "cells": [
  {
   "cell_type": "markdown",
   "id": "15e14907-aee5-44ad-bff2-00169bb51ed8",
   "metadata": {},
   "source": [
    "\n",
    "\"\"\"\n",
    "Create a class named EB_amount. It has two data members, such as units_used and\n",
    "bill. Use inputdtail() member func7on to get input for unit_used. Upto 200 units 3\n",
    "rupees per unit, 201 to 500 units 4 rupees per unit and above 500 units 5 rupees per\n",
    "unit are alloaed by EB. Calculate the bill amount in the calculate() member func7on.\n",
    "Display the bill amount along with the unit used in the Printdetail( ) member\n",
    "func7on. Include a constructor to ini7alize the value as zero for data members.\n",
    "\"\"\"\n"
   ]
  },
  {
   "cell_type": "code",
   "execution_count": 10,
   "id": "eee3a196-e5e2-4f40-9c87-a99e3dd73bc2",
   "metadata": {},
   "outputs": [
    {
     "name": "stdin",
     "output_type": "stream",
     "text": [
      "Enter units used  100\n"
     ]
    },
    {
     "name": "stdout",
     "output_type": "stream",
     "text": [
      "Units used 100\n",
      "Bill Amount 300\n"
     ]
    }
   ],
   "source": [
    "\n",
    "class EB_account:\n",
    "    def __init__(self):\n",
    "        self.units_used = 0\n",
    "        self.bill = 0\n",
    "    def inputDetail(self):\n",
    "        \n",
    "        self.units_used = int(input(\"Enter units used \"))\n",
    "    def calculate(self):\n",
    "        for i in range(self.units_used):\n",
    "            if(i<=200):\n",
    "                self.bill+=3\n",
    "            elif(i>200 and i<=500):\n",
    "                print(self.bill)\n",
    "                self.bill+=4\n",
    "                print(self.bill)\n",
    "            elif(i>500):\n",
    "                self.bill+=5\n",
    "            \n",
    "    def printDetail(self):\n",
    "        print(f\"Units used {self.units_used}\")\n",
    "        print(f\"Bill Amount {self.bill}\")\n",
    "\n",
    "a = EB_account()\n",
    "a.inputDetail()\n",
    "a.calculate()\n",
    "a.printDetail()\n"
   ]
  },
  {
   "cell_type": "code",
   "execution_count": null,
   "id": "d343597b-c467-430d-8fd7-63f85e476bde",
   "metadata": {},
   "outputs": [],
   "source": []
  }
 ],
 "metadata": {
  "kernelspec": {
   "display_name": "Python 3 (ipykernel)",
   "language": "python",
   "name": "python3"
  },
  "language_info": {
   "codemirror_mode": {
    "name": "ipython",
    "version": 3
   },
   "file_extension": ".py",
   "mimetype": "text/x-python",
   "name": "python",
   "nbconvert_exporter": "python",
   "pygments_lexer": "ipython3",
   "version": "3.11.9"
  }
 },
 "nbformat": 4,
 "nbformat_minor": 5
}
