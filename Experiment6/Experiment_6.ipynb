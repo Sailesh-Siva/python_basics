{
 "cells": [
  {
   "cell_type": "markdown",
   "id": "8e6195f2-d8c6-4f86-bb2d-e36021a69d0a",
   "metadata": {},
   "source": [
    "Triangular Matrix Calculation"
   ]
  },
  {
   "cell_type": "code",
   "execution_count": 2,
   "id": "fc38b5c3-7925-4549-8e3e-31421b9b1da3",
   "metadata": {},
   "outputs": [
    {
     "name": "stdin",
     "output_type": "stream",
     "text": [
      "Enter number of rows  3\n",
      "Enter number of columns  3\n",
      " 1\n",
      " 2\n",
      " 3\n",
      " 4\n",
      " 5\n",
      " 6\n",
      " 7\n",
      " 8\n",
      " 9\n"
     ]
    },
    {
     "name": "stdout",
     "output_type": "stream",
     "text": [
      "Sum of upper triangular matrix elements 26\n",
      "Sum of upper triangular matrix elements 34\n",
      "\n",
      "1 2 3 \n",
      "4 5 6 \n",
      "7 8 9 "
     ]
    }
   ],
   "source": [
    "def matrixInput(n1,n2,a):\n",
    "    \n",
    "    for i in range(n1):\n",
    "        a.append([])\n",
    "        for j in range(n2):\n",
    "            a[i].append(int(input()))\n",
    "\n",
    "def matrixCheck(n1,n2,a):\n",
    "    try:\n",
    "        if(n1!=n2):\n",
    "            raise ArithmeticError\n",
    "    except:\n",
    "        print(\"Given matrix is not a square matrix\")\n",
    "    else:\n",
    "        ut = lt = 0\n",
    "        for i in range(n1):\n",
    "            for j in range(n2):\n",
    "                if(i>=j):\n",
    "                    lt+=a[i][j]\n",
    "                if(j>=i):\n",
    "                    ut+=a[i][j]\n",
    "        print(f\"Sum of upper triangular matrix elements {ut}\")\n",
    "        print(f\"Sum of upper triangular matrix elements {lt}\")\n",
    "    finally:\n",
    "        matrixOutput(n1,n2,a)\n",
    "    \n",
    "    \n",
    "def matrixOutput(n1,n2,a):\n",
    "    for i in range(n1):\n",
    "        print()\n",
    "        for j in range(n2):\n",
    "            print(a[i][j],end = \" \")\n",
    "\n",
    "a=[]\n",
    "n1=int(input(\"Enter number of rows \"))\n",
    "n2=int(input(\"Enter number of columns \"))\n",
    "matrixInput(n1,n2,a)\n",
    "matrixCheck(n1,n2,a)"
   ]
  },
  {
   "cell_type": "markdown",
   "id": "0025670c-2785-4457-bbd5-765cf2e00506",
   "metadata": {},
   "source": [
    "Bank Customer Details"
   ]
  },
  {
   "cell_type": "code",
   "execution_count": 27,
   "id": "23b8b87b-5a5c-4b75-b30a-57c3e9101f52",
   "metadata": {},
   "outputs": [
    {
     "name": "stdout",
     "output_type": "stream",
     "text": [
      "Account number is invalid. It must be 100 or higher.\n",
      "Account number is invalid. It must be 100 or higher.\n",
      "['Accno', 'Name', 'Balance']\n",
      "['100', 'Sailesh', '30000']\n"
     ]
    }
   ],
   "source": [
    "import csv\n",
    "\n",
    "\n",
    "class InvalidAccountNumberError(Exception):\n",
    "    def __init__(self, message=\"Account number is invalid. It must be 100 or higher.\"):\n",
    "        self.message = message\n",
    "        super().__init__(self.message)\n",
    "\n",
    "def AccProccesing(a,b):\n",
    "    f = open (\"CustDetails.csv\",\"w\",newline=\"\")\n",
    "    writer = csv.writer(f)\n",
    "    writer.writerow([\"Accno\",\"Name\",\"Balance\"])\n",
    "    for i in a:\n",
    "        try:\n",
    "            if(a[i][\"Accno\"]<100):\n",
    "                raise InvalidAccountNumberError    \n",
    "        except InvalidAccountNumberError as e:\n",
    "            print(e)\n",
    "            b.append([a[i][\"Accno\"],a[i][\"Name\"],a[i][\"Balance\"]])\n",
    "        else:\n",
    "            l1=[a[i][\"Accno\"],a[i][\"Name\"],a[i][\"Balance\"]]\n",
    "            writer.writerow(l1)\n",
    "    f.close()\n",
    "    with open (\"CustDetails.csv\",\"r\",newline=\"\") as f:\n",
    "        reader = csv.reader(f)\n",
    "        for row in reader:\n",
    "            print(row)\n",
    "\n",
    "a = {1:{\"Accno\":100,\"Name\":\"Sailesh\",\"Balance\":30000},2:{\"Accno\":20,\"Name\":\"CRG\",\"Balance\":20000},3:{\"Accno\":30,\"Name\":\"Abdul\",\"Balance\":10000}}\n",
    "b = []\n",
    "\n",
    "AccProccesing(a,b)"
   ]
  },
  {
   "cell_type": "code",
   "execution_count": null,
   "id": "28e284a1-2a52-46ce-bf9b-29c16d8db65e",
   "metadata": {},
   "outputs": [],
   "source": []
  }
 ],
 "metadata": {
  "kernelspec": {
   "display_name": "Python 3 (ipykernel)",
   "language": "python",
   "name": "python3"
  },
  "language_info": {
   "codemirror_mode": {
    "name": "ipython",
    "version": 3
   },
   "file_extension": ".py",
   "mimetype": "text/x-python",
   "name": "python",
   "nbconvert_exporter": "python",
   "pygments_lexer": "ipython3",
   "version": "3.11.9"
  }
 },
 "nbformat": 4,
 "nbformat_minor": 5
}
