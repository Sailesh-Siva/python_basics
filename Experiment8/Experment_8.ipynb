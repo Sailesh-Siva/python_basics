{
 "cells": [
  {
   "cell_type": "code",
   "execution_count": 3,
   "id": "696c6dcc-ed5c-4d04-a7f6-fcef1d1ddd21",
   "metadata": {},
   "outputs": [
    {
     "name": "stdout",
     "output_type": "stream",
     "text": [
      "Details of the Book:\n",
      "Title: The Great Gatsby\n",
      "Price: 15.99\n",
      "Page Count: 218\n",
      "\n",
      "Details of the Tape:\n",
      "Title: Classical Music Collection\n",
      "Price: 9.99\n",
      "Playing Time: 90 minutes\n"
     ]
    }
   ],
   "source": [
    "class Publication:\n",
    "    def __init__(self, title, price):\n",
    "        self.title = title\n",
    "        self.price = price\n",
    "\n",
    "    def set(self):\n",
    "        print(f\"Title: {self.title}\")\n",
    "        print(f\"Price: {self.price}\")\n",
    "\n",
    "\n",
    "class Book(Publication):\n",
    "    def __init__(self, title, price, page_count):\n",
    "        super().__init__(title, price)\n",
    "        self.page_count = page_count\n",
    "\n",
    "    def set(self):\n",
    "        super().set()\n",
    "        print(f\"Page Count: {self.page_count}\")\n",
    "\n",
    "\n",
    "class Tape(Publication):\n",
    "    def __init__(self, title, price, play_time):\n",
    "        super().__init__(title, price)\n",
    "        self.play_time = play_time\n",
    "\n",
    "    def set(self):\n",
    "        super().set()\n",
    "        print(f\"Playing Time: {self.play_time} minutes\")\n",
    "\n",
    "\n",
    "def main():\n",
    "    book = Book(\"The Great Gatsby\", 15.99, 218)\n",
    "    print(\"Details of the Book:\")\n",
    "    book.set()\n",
    "\n",
    "    print(\"\\nDetails of the Tape:\")\n",
    "    tape = Tape(\"Classical Music Collection\", 9.99, 90)\n",
    "    tape.set()\n",
    "\n",
    "\n",
    "if __name__ == \"__main__\":\n",
    "    main()\n"
   ]
  },
  {
   "cell_type": "markdown",
   "id": "4fd49a1e-e527-4227-8a44-78d5bd0e2c47",
   "metadata": {},
   "source": [
    "Nested Class"
   ]
  },
  {
   "cell_type": "code",
   "execution_count": 57,
   "id": "72dfc813-b20b-4b50-aa7f-d0ebcbc32c51",
   "metadata": {},
   "outputs": [],
   "source": [
    "class Text:\n",
    "    def f1(self):\n",
    "        print(\"Class 1\")\n",
    "    class Text2:\n",
    "        def f1(self):\n",
    "            print(\"Class 2\")"
   ]
  },
  {
   "cell_type": "code",
   "execution_count": 58,
   "id": "0981b2f5-4fbc-4d17-963f-c98c7de570cb",
   "metadata": {},
   "outputs": [
    {
     "name": "stdout",
     "output_type": "stream",
     "text": [
      "Class 1\n"
     ]
    }
   ],
   "source": [
    "a = Text()\n",
    "a.f1()"
   ]
  },
  {
   "cell_type": "code",
   "execution_count": 59,
   "id": "f546c19c-7c64-44f1-9fc4-66e91565d89a",
   "metadata": {},
   "outputs": [
    {
     "name": "stdout",
     "output_type": "stream",
     "text": [
      "Class 2\n"
     ]
    }
   ],
   "source": [
    "b = Text.Text2()\n",
    "b.f1()"
   ]
  },
  {
   "cell_type": "code",
   "execution_count": null,
   "id": "1095550a-c16a-4217-96ca-8129da5d7bd1",
   "metadata": {},
   "outputs": [],
   "source": []
  }
 ],
 "metadata": {
  "kernelspec": {
   "display_name": "Python 3 (ipykernel)",
   "language": "python",
   "name": "python3"
  },
  "language_info": {
   "codemirror_mode": {
    "name": "ipython",
    "version": 3
   },
   "file_extension": ".py",
   "mimetype": "text/x-python",
   "name": "python",
   "nbconvert_exporter": "python",
   "pygments_lexer": "ipython3",
   "version": "3.11.9"
  }
 },
 "nbformat": 4,
 "nbformat_minor": 5
}
